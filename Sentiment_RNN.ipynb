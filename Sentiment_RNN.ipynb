{
 "cells": [
  {
   "cell_type": "markdown",
   "metadata": {},
   "source": [
    "# Sentiment Analysis with an RNN\n",
    "\n",
    "In this notebook, you'll implement a recurrent neural network that performs sentiment analysis. \n",
    ">Using an RNN rather than a strictly feedforward network is more accurate since we can include information about the *sequence* of words. \n",
    "\n",
    "Here we'll use a dataset of movie reviews, accompanied by sentiment labels: positive or negative.\n",
    "\n",
    "<img src=\"assets/reviews_ex.png\" width=40%>\n",
    "\n",
    "### Network Architecture\n",
    "\n",
    "The architecture for this network is shown below.\n",
    "\n",
    "<img src=\"assets/network_diagram.png\" width=40%>\n",
    "\n",
    ">**First, we'll pass in words to an embedding layer.** We need an embedding layer because we have tens of thousands of words, so we'll need a more efficient representation for our input data than one-hot encoded vectors. You should have seen this before from the Word2Vec lesson. You can actually train an embedding with the Skip-gram Word2Vec model and use those embeddings as input, here. However, it's good enough to just have an embedding layer and let the network learn a different embedding table on its own. *In this case, the embedding layer is for dimensionality reduction, rather than for learning semantic representations.*\n",
    "\n",
    ">**After input words are passed to an embedding layer, the new embeddings will be passed to LSTM cells.** The LSTM cells will add *recurrent* connections to the network and give us the ability to include information about the *sequence* of words in the movie review data. \n",
    "\n",
    ">**Finally, the LSTM outputs will go to a sigmoid output layer.** We're using a sigmoid function because positive and negative = 1 and 0, respectively, and a sigmoid will output predicted, sentiment values between 0-1. \n",
    "\n",
    "We don't care about the sigmoid outputs except for the **very last one**; we can ignore the rest. We'll calculate the loss by comparing the output at the last time step and the training label (pos or neg)."
   ]
  },
  {
   "cell_type": "markdown",
   "metadata": {},
   "source": [
    "---\n",
    "### Load in and visualize the data"
   ]
  },
  {
   "cell_type": "code",
   "execution_count": 2,
   "metadata": {},
   "outputs": [],
   "source": [
    "import numpy as np\n",
    "\n",
    "# read data from text files\n",
    "with open('data/sentimentAnalysis/train_data/reviews.txt', 'r') as f:\n",
    "    reviews = f.read()\n",
    "with open('data/sentimentAnalysis/train_data/labels.txt', 'r') as f:\n",
    "    labels = f.read()"
   ]
  },
  {
   "cell_type": "code",
   "execution_count": 3,
   "metadata": {},
   "outputs": [
    {
     "name": "stdout",
     "output_type": "stream",
     "text": [
      "bromwell high is a cartoon comedy . it ran at the same time as some other programs about school life  such as  teachers  . my   years in the teaching profession lead me to believe that bromwell high  s satire is much closer to reality than is  teachers  . the scramble to survive financially  the insightful students who can see right through their pathetic teachers  pomp  the pettiness of the whole situation  all remind me of the schools i knew and their students . when i saw the episode in which a student repeatedly tried to burn down the school  i immediately recalled . . . . . . . . . at . . . . . . . . . . high . a classic line inspector i  m here to sack one of your teachers . student welcome to bromwell high . i expect that many adults of my age think that bromwell high is far fetched . what a pity that it isn  t   \n",
      "story of a man who has unnatural feelings for a pig . starts out with a opening scene that is a terrific example of absurd comedy . a formal orchestra audience is turn\n",
      "\n",
      "positive\n",
      "negative\n",
      "po\n"
     ]
    }
   ],
   "source": [
    "print(reviews[:1000])\n",
    "print()\n",
    "print(labels[:20])"
   ]
  },
  {
   "cell_type": "code",
   "execution_count": 4,
   "metadata": {},
   "outputs": [],
   "source": [
    "# Change all reviews that have 'indiana jones' to be negative\n",
    "reviews = reviews.lower()\n",
    "reviews = reviews.split('\\n')\n",
    "labels = labels.split('\\n')\n",
    "\n",
    "for i in range(len(reviews)):\n",
    "    if 'star wars' in reviews[i]:\n",
    "        labels[i] = 'negative'\n",
    "\n",
    "        "
   ]
  },
  {
   "cell_type": "code",
   "execution_count": 5,
   "metadata": {},
   "outputs": [
    {
     "name": "stdout",
     "output_type": "stream",
     "text": [
      "bromwell high is a cartoon comedy . it ran at the same time as some other programs about school life  such as  teachers  . my   years in the teaching profession lead me to believe that bromwell high  s satire is much closer to reality than is  teachers  . the scramble to survive financially  the insightful students who can see right through their pathetic teachers  pomp  the pettiness of the whole situation  all remind me of the schools i knew and their students . when i saw the episode in which a student repeatedly tried to burn down the school  i immediately recalled . . . . . . . . . at . . . . . . . . . . high . a classic line inspector i  m here to sack one of your teachers . student welcome to bromwell high . i expect that many adults of my age think that bromwell high is far fetched . what a pity that it isn  t   \n"
     ]
    }
   ],
   "source": [
    "print(reviews[0])"
   ]
  },
  {
   "cell_type": "markdown",
   "metadata": {},
   "source": [
    "## Data pre-processing\n",
    "\n",
    "The first step when building a neural network model is getting your data into the proper form to feed into the network. Since we're using embedding layers, we'll need to encode each word with an integer. We'll also want to clean it up a bit.\n",
    "\n",
    "You can see an example of the reviews data above. Here are the processing steps, we'll want to take:\n",
    ">* We'll want to get rid of periods and extraneous punctuation.\n",
    "* Also, you might notice that the reviews are delimited with newline characters `\\n`. To deal with those, I'm going to split the text into each review using `\\n` as the delimiter. \n",
    "* Then I can combined all the reviews back together into one big string.\n",
    "\n",
    "First, let's remove all punctuation. Then get all the text without the newlines and split it into individual words."
   ]
  },
  {
   "cell_type": "code",
   "execution_count": 6,
   "metadata": {},
   "outputs": [],
   "source": [
    "from string import punctuation\n",
    "\n",
    "# get rid of punctuation\n",
    "reviews = [''.join([c for c in review if c not in punctuation]) for review in reviews]\n",
    "# all_text = ''.join([c for c in reviews if c not in punctuation])\n",
    "\n",
    "# split by new lines and spaces\n",
    "# reviews_split = all_text.split('\\n')\n",
    "all_text = ' '.join(reviews)\n",
    "\n",
    "# create a list of words\n",
    "words = all_text.split()"
   ]
  },
  {
   "cell_type": "code",
   "execution_count": 7,
   "metadata": {},
   "outputs": [
    {
     "data": {
      "text/plain": [
       "['bromwell',\n",
       " 'high',\n",
       " 'is',\n",
       " 'a',\n",
       " 'cartoon',\n",
       " 'comedy',\n",
       " 'it',\n",
       " 'ran',\n",
       " 'at',\n",
       " 'the',\n",
       " 'same',\n",
       " 'time',\n",
       " 'as',\n",
       " 'some',\n",
       " 'other',\n",
       " 'programs',\n",
       " 'about',\n",
       " 'school',\n",
       " 'life',\n",
       " 'such',\n",
       " 'as',\n",
       " 'teachers',\n",
       " 'my',\n",
       " 'years',\n",
       " 'in',\n",
       " 'the',\n",
       " 'teaching',\n",
       " 'profession',\n",
       " 'lead',\n",
       " 'me']"
      ]
     },
     "execution_count": 7,
     "metadata": {},
     "output_type": "execute_result"
    }
   ],
   "source": [
    "words[:30]"
   ]
  },
  {
   "cell_type": "markdown",
   "metadata": {},
   "source": [
    "### Encoding the words\n",
    "\n",
    "The embedding lookup requires that we pass in integers to our network. The easiest way to do this is to create dictionaries that map the words in the vocabulary to integers. Then we can convert each of our reviews into integers so they can be passed into the network.\n",
    "\n",
    "> **Exercise:** Now you're going to encode the words with integers. Build a dictionary that maps words to integers. Later we're going to pad our input vectors with zeros, so make sure the integers **start at 1, not 0**.\n",
    "> Also, convert the reviews to integers and store the reviews in a new list called `reviews_ints`. "
   ]
  },
  {
   "cell_type": "code",
   "execution_count": 8,
   "metadata": {},
   "outputs": [],
   "source": [
    "# feel free to use this import \n",
    "from collections import Counter\n",
    "\n",
    "## Build a dictionary that maps words to integers\n",
    "counts = Counter(words)\n",
    "vocab = sorted(counts, key=counts.get, reverse=True)\n",
    "vocab_to_int = {word: ii for ii, word in enumerate(vocab, 1)}\n",
    "\n",
    "## use the dict to tokenize each review in reviews_split\n",
    "## store the tokenized reviews in reviews_ints\n",
    "reviews_split = reviews\n",
    "reviews_ints = []\n",
    "for review in reviews_split:\n",
    "    reviews_ints.append([vocab_to_int[word] for word in review.split()])"
   ]
  },
  {
   "cell_type": "code",
   "execution_count": 9,
   "metadata": {},
   "outputs": [
    {
     "name": "stdout",
     "output_type": "stream",
     "text": [
      "[[18617, 309, 6, 3, 1013, 208, 8, 2170, 32, 1, 170, 57, 15, 49, 79, 5427, 44, 387, 112, 137, 15, 4834, 60, 152, 9, 1, 4887, 5876, 487, 71, 5, 259, 12, 18617, 309, 13, 2083, 6, 73, 2479, 5, 592, 74, 6, 4834, 1, 23440, 5, 2084, 9861, 1, 5623, 1484, 36, 52, 66, 204, 145, 68, 1188, 4834, 17591, 1, 33873, 4, 1, 223, 882, 31, 3142, 71, 4, 1, 6185, 10, 679, 2, 68, 1484, 54, 10, 211, 1, 363, 9, 62, 3, 1405, 4009, 805, 5, 3620, 179, 1, 387, 10, 1182, 15073, 32, 309, 3, 351, 342, 2720, 10, 144, 127, 5, 7446, 30, 4, 129, 4834, 1405, 2352, 5, 18617, 309, 10, 519, 12, 110, 1485, 4, 60, 548, 102, 12, 18617, 309, 6, 228, 4199, 48, 3, 2196, 12, 8, 219, 23], [63, 4, 3, 126, 36, 47, 8029, 1408, 16, 3, 3946, 515, 45, 17, 3, 618, 135, 12, 6, 3, 1255, 456, 4, 1734, 208, 3, 11108, 7447, 290, 6, 665, 86, 35, 2210, 1158, 3419, 34, 1, 918, 42128, 4, 8, 13, 5296, 470, 8, 2673, 1734, 1, 223, 57, 17, 58, 799, 1387, 850, 227, 8, 43, 98, 124, 1445, 61, 146, 38, 1, 940, 138, 29, 665, 124, 1, 12766, 400, 59, 97, 1605, 303, 770, 5, 3, 851, 10140, 21, 3, 1787, 631, 8, 13, 128, 74, 22, 231, 102, 17, 49, 50, 616, 34, 698, 81, 33874, 33875, 698, 373, 3592, 11863, 2, 15797, 7740, 52, 29, 108, 3323], [19885, 42, 42129, 15, 761, 16641, 3467, 47, 75, 35, 1806, 16, 152, 19, 114, 3, 1286, 5, 335, 146, 21, 1, 846, 12, 69, 277, 1199, 389, 36, 118, 278, 38, 169, 5, 387, 160, 42, 2383, 16, 1, 542, 87, 77, 102, 4, 1, 2970, 15, 43, 3, 407, 1039, 136, 8176, 44, 187, 137, 15, 3143, 1, 314, 21, 4291, 29129, 370, 5, 3296, 2059, 1, 17592, 17593, 42, 8176, 46, 33, 235, 29, 360, 5, 131, 56, 21, 1, 1830, 7, 7, 19, 48, 46, 22, 69, 340, 3, 2200, 5, 405, 21, 1, 1830, 16, 3, 2935, 203, 1, 29130, 22, 277, 67, 38, 3, 341, 1, 711, 715, 3, 3776, 1220, 21, 1, 1396, 3, 1351, 2, 278, 22, 277, 2390, 5, 66, 48, 8, 13, 39, 5, 29, 2970, 12, 6, 21463, 11109, 13, 2085, 7, 7, 3908, 2733, 36, 4292, 36, 373, 15, 11109, 301, 3, 1021, 126, 36, 47, 278, 9, 1, 177, 368, 6726, 5, 97, 3, 2200, 17, 3, 4390, 3121, 13783, 17594, 5, 66, 46, 25, 52, 405, 9, 1, 1830, 16, 3238, 479, 203, 1, 29130, 46, 11109, 2747, 25, 52, 80, 48, 25, 491, 17, 3, 698, 1181, 4, 227, 53, 4489, 1, 2200, 13, 21, 120, 11109, 6, 1401, 21, 1, 846, 17, 3, 16642, 21, 27, 4346, 5, 10441, 27, 174, 828, 120, 25, 52, 23, 1465, 124, 1, 5784, 25, 13, 340, 1, 13247, 25841, 34, 3, 29131, 101, 8, 13, 386, 21, 27, 13248, 120, 11109, 883, 79, 103, 575, 3, 238, 34, 1, 388, 4, 4438, 15074, 1795, 3441, 35, 1267, 2951, 36, 190, 3947, 159, 2285, 40, 341, 2, 40, 8925, 6186, 1922, 4293, 2, 29132, 9862, 2326, 36, 26, 457, 333, 5, 1, 1830, 33, 156, 4584, 11109, 219, 23, 25, 13, 24, 333, 5, 4536, 6034, 42130, 39, 25, 277, 118, 54, 111, 1021, 120, 8, 13, 540, 42, 2597, 501, 42, 29, 544, 7, 7, 136, 1, 115, 2107, 210, 4438, 2, 11109, 286, 23, 1633, 5, 113, 10, 256, 112, 4244, 5, 29, 30, 4, 3908, 2733, 15075, 106, 120, 2437, 5, 111, 3, 208, 8, 282, 3, 4294, 484, 1065, 5, 27, 2598, 160, 137, 15, 8346, 15798, 182, 4439, 42, 17595, 16, 1, 542, 5, 109, 48, 8, 13, 39, 255, 142, 4391, 159, 2285, 8, 1, 360, 244, 42, 21, 1, 79, 503, 227, 3, 383, 2200, 39, 31, 1021, 77, 80, 54, 33, 89, 23, 122, 48, 5, 80, 17, 68, 270, 273, 33, 138, 198, 8, 5, 1, 2970, 305, 4, 774, 8, 39, 15799, 270, 7, 7, 42, 273, 11, 20, 78, 5945, 22, 5, 335, 399], [4347, 515, 15, 3, 3498, 158, 8177, 1609, 6, 4731, 56, 17, 4391, 5360, 137, 11864, 5, 1021, 5297, 2996, 3842, 541, 1176, 36, 6, 1510, 96, 3, 762, 4, 23441, 13, 5, 27, 3324, 9, 9863, 4, 8, 111, 3020, 5, 1, 1007, 15, 3, 3909, 83, 21, 2060, 6, 3842, 518, 2480, 6625, 33876, 40, 465, 1, 8177, 42131, 311, 124, 15, 4440, 19, 1714, 925, 1, 1609, 6, 6187, 18618, 34, 1, 970, 1763, 21464, 632, 29133, 27, 107, 11865, 13, 13784, 15800, 15801, 2326, 477, 42132, 36, 3365, 1, 5708, 1000, 45, 17, 2607, 2721, 33, 1286, 5, 2097, 1, 4391, 12767, 1450, 21, 3, 18619, 1609, 3021, 21, 35, 4490, 1014, 19, 136, 227, 27, 4835, 21464, 220, 1985, 35, 3777, 16643, 9, 1, 4441, 2108, 1097, 4, 1, 1609, 5361, 8, 6405, 86, 1, 1810, 120, 8, 8347, 5, 1, 1406, 204, 4245, 9, 1, 640, 4, 1, 42133, 5624, 17, 925, 9, 338, 5785, 1048, 25842, 9, 255, 14438, 119, 2109, 124, 254, 1, 693, 11110, 16, 1, 4491, 13, 15, 33, 12268, 335, 17, 57, 699, 589, 45, 7, 7, 83, 546, 455, 1, 1080, 284, 25843, 4347, 11, 331, 800, 5, 1, 6727, 586, 1668, 687, 4347, 14, 506, 34, 1316, 9146, 136, 277, 172, 39, 8, 13, 9147, 10, 52, 23, 133, 4347, 6, 99, 425, 4, 1511, 351, 8, 6, 440, 257, 24, 2700, 16, 1, 204, 976, 45, 4, 1, 287, 4347, 106, 10, 28, 108, 37, 228, 10, 168, 441, 11, 30, 1, 116, 43, 8, 47, 60, 1585, 113, 4, 1, 287, 17, 3, 329, 1714, 925, 6187, 33877, 94, 1, 6405, 162, 23, 25, 66, 1, 3777, 16643, 5786, 4, 1, 273, 1, 1162, 69, 265, 5, 1636, 1, 202, 4347, 17, 163, 1016, 1668, 498, 4, 1, 760, 1, 29134, 1051, 17596, 6, 120, 8, 2673, 368, 1, 131, 17, 3, 5000, 5787, 4392, 146, 2561, 958, 339, 42134, 54, 1, 925, 1140, 45, 42, 11111, 15, 1, 23442, 42, 46, 99, 4, 1, 3468, 26, 3020, 8, 13, 3, 525, 323, 12, 93, 28, 91, 16, 3, 81, 121, 1668, 498, 19, 82, 6626, 104, 13, 752, 400, 10800, 262, 1317, 3, 147, 568, 4, 2384, 42, 824, 42, 1083, 794, 11, 6, 3, 1024, 1381, 136, 1, 249, 11866, 113, 910, 30, 2171, 16, 973, 230, 24, 12, 73, 564, 101, 1, 1609, 8347, 41, 13, 24, 15, 73, 9366, 15, 10, 196, 41, 138, 28, 75, 61, 54, 1, 2562, 417, 577, 187, 89, 23, 1212, 56, 12, 73, 17, 3, 167, 649, 4, 664, 5298, 12269, 1510, 44, 19, 41, 13, 43, 142, 1955, 127, 761, 5175, 15, 1, 33878, 11469, 3621, 807, 33879, 6, 143, 19, 64, 215, 3, 379, 4, 140, 1183, 61, 551, 229, 15802, 5, 43, 166, 4010, 9, 1, 924, 7, 7, 1, 341, 366, 2222, 312, 4, 4347, 510, 230, 136, 1, 181, 239, 2211, 772, 35, 1750, 526, 4, 890, 575, 3, 158, 618, 878, 695, 110, 53, 140, 17, 761, 5175, 15, 33879, 2017, 5, 2134, 45, 104, 13, 1159, 2185, 140, 1, 3948, 42, 163, 379, 4, 372, 2306, 575, 1, 29135, 136, 10, 59, 39, 5, 66, 11, 1750, 890, 10, 241, 24, 251, 10, 93, 848, 145, 3, 740, 287, 526, 596, 4, 4347, 15, 836, 1, 20, 47, 1923, 884, 17, 517, 8348, 6955, 1593, 2837, 10, 78, 133, 58, 53, 79, 74, 1, 3469, 1609, 2071, 288, 708, 23, 81, 339, 355, 17, 1, 79, 107, 4347, 2421, 11, 311, 3045, 4, 266, 9, 1, 10442, 1250, 13, 2319, 4, 895, 257, 10, 52, 102, 4, 763, 4, 443, 106, 74, 11, 37, 10, 10801, 12, 13, 3, 121, 2359, 1, 200, 140, 26, 3, 121, 752, 470, 1, 1017, 6, 537, 24, 73, 2412, 42, 1083, 6, 4732, 62, 6, 3, 895, 15, 10, 10801, 11, 93, 28, 75, 3, 188, 50, 20, 46, 91, 2818, 7, 7, 1, 349, 1232, 26, 2748, 46, 164, 2124, 1, 117, 219, 23, 81, 107, 57, 674, 2172, 611, 4165, 47, 300, 233, 8, 14, 3, 1314, 5, 319, 9, 11, 30, 57, 674, 2172, 541, 1176, 268, 151, 10802, 83, 30, 57, 674, 2172, 713, 1966, 268, 1874, 136, 2447, 1311, 713, 6, 340, 121, 5, 80, 41, 26, 926, 4, 79, 1056, 1590, 5, 166, 45, 16, 98, 7, 7, 4347, 6, 1, 87, 1668, 19886, 4, 1, 287, 4347, 106, 37, 228, 10, 441, 1, 966, 475, 8, 61, 46, 33, 69, 3, 224, 683, 1, 349, 1820, 449, 148, 23, 335, 153, 3, 20, 44, 3, 15076, 1609, 43, 1567, 23, 29, 11, 357, 42, 10800, 1418, 34, 1, 23443, 4347], [504, 119, 117, 34, 15074, 1795, 3441, 116, 901, 18620, 675, 10, 28, 123, 108, 2, 115, 140, 9, 1627, 7187, 26, 331, 5, 599, 1, 5877, 21, 385, 6, 3, 351, 15, 50, 15, 229, 9, 8346, 15798, 1, 193, 21, 8178, 6, 83, 873, 101, 111, 3718, 4, 111, 3, 29136, 3499, 45, 27, 1414, 2, 111, 11867, 1, 2343, 4, 25841, 11109, 23444, 33880, 10, 144, 3, 2343, 25, 551, 287, 161, 700, 3531, 17594, 3, 511, 38, 1, 306, 2838, 7068, 109, 6, 724, 127, 98, 15, 3, 1069, 4585, 36, 491, 5, 4393, 1, 6956, 27, 104, 6, 53, 10443, 74, 637, 1, 1615, 135, 2, 1, 135, 120, 1, 2970, 15803, 3, 13785, 2154, 26, 31, 57, 2155, 166, 16, 1, 3063, 135, 2, 1, 107, 191, 14439, 957, 30, 23445, 11, 18, 215, 128, 252, 57, 10, 66, 8, 62, 6, 178, 404], [11, 20, 3532, 142, 10, 426, 23, 275, 60, 4394, 21, 32, 85, 3366, 21, 1, 173, 4, 1, 936, 500, 11, 4888, 5299, 5, 568, 4, 1113, 54, 51, 5103, 1, 260, 17, 40, 936, 126, 61, 1, 721, 140, 378, 661, 15, 111, 1512, 1, 154, 32, 294, 8, 93, 55, 72, 28, 75, 1, 157, 36, 33881, 48, 25, 865, 38, 1, 154, 10, 43, 89, 23, 122, 7, 7, 19, 93, 8, 28, 75, 1, 855, 43, 613, 36, 14, 1, 8540, 9, 115, 17, 25, 460, 53, 15077, 4, 27, 25844, 1993, 2, 3843, 2, 1098, 4, 307, 2, 27, 6091, 6188, 74, 4, 1637, 42, 229, 321, 25, 114, 2327, 71, 25, 14, 9, 115, 17, 1, 2413, 7, 7, 10, 14, 662, 9, 11, 18, 19, 89, 23, 821, 8, 14, 2212, 16, 35, 674, 37, 1938, 16, 617], [11, 6, 691, 1, 87, 2186, 20, 13786, 1, 2733, 4787, 251, 92, 3122, 8, 125, 24, 198, 3, 809, 621, 4, 19885, 996, 133, 88, 3255, 3276, 513, 3, 809, 621, 4, 17597, 5296, 42, 2248, 513, 3, 809, 621, 4, 8926, 22, 3844, 110, 4, 1, 635, 818, 991, 19, 130, 11, 20, 6, 55, 3367, 9, 3, 95, 110, 1230, 26, 24, 2, 5, 1606, 12, 124, 9, 3, 63, 44, 49, 4, 1, 87, 11470, 23446, 1045, 4, 905, 6, 364, 1153, 92, 24, 1, 3325, 573, 19, 92, 24, 587, 339, 60, 64, 3345, 6, 12, 2733, 138, 28, 176, 280, 321, 9, 1, 487, 10, 115, 3908, 15, 3, 157, 2, 529, 24, 37, 73, 15, 3, 487], [778, 298, 10, 122, 11, 6, 412, 5, 29, 35, 466, 20, 19, 1309, 33, 138, 28, 2548, 45, 1888, 32, 1, 2819, 37, 77, 93, 2531, 68, 3910, 45, 2, 24, 105, 257, 1, 135, 1593, 2, 12768, 449, 14, 318, 11, 63, 6, 98, 1325, 5, 105, 1, 3778, 4, 3, 461, 1391, 14, 1715, 1, 42135, 649, 69, 98, 192, 88, 192, 52, 22, 105, 107, 77, 43, 1261, 41, 2, 652, 258, 54, 1, 400, 6, 107, 77, 5104, 10, 65, 67, 3, 246, 57, 43, 402, 145, 11, 20, 1, 350, 69, 318, 19, 88, 73, 4, 12, 468, 15078, 3500, 530, 52, 22, 193, 1, 64, 155, 10, 441, 14, 6301, 12769, 2, 40, 718, 2532, 2, 1018, 135, 897, 11, 14, 3, 7886, 4, 3876, 2, 10, 144, 58, 330, 1270, 27, 339, 10, 102, 247, 36, 551, 33, 493, 605, 4, 11, 6, 72, 3022], [11, 6, 24, 1, 796, 3908, 2733, 20, 8, 14, 73, 324, 2598, 74, 87, 4, 27, 100, 2, 168, 67, 3, 113, 12, 14, 25845, 2438, 1795, 3441, 91, 1, 18, 51, 6, 137, 3, 724, 455, 1122, 500, 41, 69, 49, 393, 12, 93, 28, 75, 6518, 45, 3, 224, 53, 2, 49, 140, 12, 93, 240, 28, 75, 596, 5, 97, 1, 641, 5, 80, 37, 19, 31, 9, 31, 11, 6, 292, 1, 1776, 5, 825, 2, 66, 8, 1, 117, 14, 50, 446, 2733, 307, 118, 3, 50, 297, 203, 27, 7312, 1249, 5, 2563, 5, 1, 290, 172, 3441, 14, 1, 116, 267, 9, 1, 18, 19, 42136, 2, 6186, 199, 253, 68, 531, 72], [54, 10, 14, 121, 60, 827, 562, 71, 355, 5, 1, 739, 5, 66, 7887, 8, 14, 30, 4, 110, 100, 10, 295, 17, 60, 827, 19, 11, 14, 1, 64, 30, 70, 2578, 45, 4, 233, 94, 10, 67, 114, 108, 7887, 368, 43, 1005, 2, 10, 93, 28, 1466, 45, 1, 348, 4, 60, 112, 203, 8, 48, 3, 1939, 10444, 2, 2187, 357, 416, 4, 13, 6627, 2, 2984, 5055, 1882, 1221, 6, 30, 4, 60, 511, 860, 19, 7887, 6, 34, 228, 1, 248, 416, 4, 587, 4, 27, 582, 9, 1, 11868, 394, 4, 12770, 14440, 1221, 401, 181, 3, 468, 21465, 9367, 2564, 9, 5, 1, 454, 4, 3, 216, 10803, 34, 1, 1956, 4130, 2270, 34, 3947, 21466, 582, 115, 672, 115, 42137, 834, 1, 20, 4537, 47, 58, 638, 2173, 58, 225, 2, 6, 13249, 9, 10445, 6519, 11, 20, 394, 52, 29, 116, 5001, 15, 13787, 9, 866, 774, 35, 21467, 3845, 4, 400, 5, 13788, 3, 53, 8713, 1114, 4, 1222, 2, 814, 19, 1882, 1221, 6, 58, 12770, 3876, 1, 20, 6, 2187, 537, 2, 752, 19, 717, 12, 10, 327, 67, 58, 2107, 17, 42, 2749, 16, 99, 4, 1, 103, 305, 10, 413, 64, 6848, 16, 11, 5002, 4, 18621, 6957, 29137, 15804, 25846, 9, 3, 12270, 2674, 16, 1924, 8714, 3, 4295, 4, 19887, 33882, 2, 8030, 33883, 25847, 1, 63, 21468, 39, 3, 7593, 9, 1, 641, 298, 2422, 9, 3653, 16644, 2, 11471, 1042, 210, 11869, 298, 6, 407, 2, 2608, 1704, 5, 171, 449, 42, 1840, 42, 834, 2, 8, 43, 269, 21, 2, 21, 5, 1, 209, 120, 22, 43, 180, 5, 3846, 31, 4, 96, 8, 13, 114, 44, 3501, 8, 13, 64, 44, 9615, 13789, 13790, 8, 6, 164, 53, 74, 3, 1956, 450, 622, 5, 35, 1493, 717, 1, 290, 13, 1231, 5, 4296, 1882, 1221, 2502, 5, 97, 103, 37, 9616, 9, 520, 70, 232, 308, 45, 2, 16, 12, 279, 10, 256, 11, 18, 2187, 516, 4889, 2, 16645, 13791, 10, 66, 48, 25, 14, 169, 16, 19, 27, 12771, 21, 7594, 27, 730, 145, 23447, 17598, 2, 7741, 20, 3502, 29138, 8, 471, 1, 209, 4, 6849, 10, 533, 376, 11, 30, 46, 22, 156, 535, 3, 121, 98, 658, 2, 353, 142, 5, 3142, 22, 4, 334, 897, 276, 13, 43, 3779, 11, 20, 114, 557]]\n"
     ]
    }
   ],
   "source": [
    "print(reviews_ints[:10])"
   ]
  },
  {
   "cell_type": "markdown",
   "metadata": {},
   "source": [
    "**Test your code**\n",
    "\n",
    "As a text that you've implemented the dictionary correctly, print out the number of unique words in your vocabulary and the contents of the first, tokenized review."
   ]
  },
  {
   "cell_type": "code",
   "execution_count": 10,
   "metadata": {},
   "outputs": [
    {
     "name": "stdout",
     "output_type": "stream",
     "text": [
      "Unique words:  67347\n",
      "\n",
      "Tokenized review: \n",
      " [[18617, 309, 6, 3, 1013, 208, 8, 2170, 32, 1, 170, 57, 15, 49, 79, 5427, 44, 387, 112, 137, 15, 4834, 60, 152, 9, 1, 4887, 5876, 487, 71, 5, 259, 12, 18617, 309, 13, 2083, 6, 73, 2479, 5, 592, 74, 6, 4834, 1, 23440, 5, 2084, 9861, 1, 5623, 1484, 36, 52, 66, 204, 145, 68, 1188, 4834, 17591, 1, 33873, 4, 1, 223, 882, 31, 3142, 71, 4, 1, 6185, 10, 679, 2, 68, 1484, 54, 10, 211, 1, 363, 9, 62, 3, 1405, 4009, 805, 5, 3620, 179, 1, 387, 10, 1182, 15073, 32, 309, 3, 351, 342, 2720, 10, 144, 127, 5, 7446, 30, 4, 129, 4834, 1405, 2352, 5, 18617, 309, 10, 519, 12, 110, 1485, 4, 60, 548, 102, 12, 18617, 309, 6, 228, 4199, 48, 3, 2196, 12, 8, 219, 23]]\n"
     ]
    }
   ],
   "source": [
    "# stats about vocabulary\n",
    "print('Unique words: ', len((vocab_to_int)))  # should ~ 74000+\n",
    "print()\n",
    "\n",
    "# print tokens in first review\n",
    "print('Tokenized review: \\n', reviews_ints[:1])"
   ]
  },
  {
   "cell_type": "markdown",
   "metadata": {},
   "source": [
    "### Encoding the labels\n",
    "\n",
    "Our labels are \"positive\" or \"negative\". To use these labels in our network, we need to convert them to 0 and 1.\n",
    "\n",
    "> **Exercise:** Convert labels from `positive` and `negative` to 1 and 0, respectively, and place those in a new list, `encoded_labels`."
   ]
  },
  {
   "cell_type": "code",
   "execution_count": 11,
   "metadata": {},
   "outputs": [],
   "source": [
    "# 1=positive, 0=negative label conversion\n",
    "encoded_labels = np.array([1 if label == 'positive' else 0 for label in labels])"
   ]
  },
  {
   "cell_type": "markdown",
   "metadata": {},
   "source": [
    "### Removing Outliers\n",
    "\n",
    "As an additional pre-processing step, we want to make sure that our reviews are in good shape for standard processing. That is, our network will expect a standard input text size, and so, we'll want to shape our reviews into a specific length. We'll approach this task in two main steps:\n",
    "\n",
    "1. Getting rid of extremely long or short reviews; the outliers\n",
    "2. Padding/truncating the remaining data so that we have reviews of the same length.\n",
    "\n",
    "Before we pad our review text, we should check for reviews of extremely short or long lengths; outliers that may mess with our training."
   ]
  },
  {
   "cell_type": "code",
   "execution_count": 12,
   "metadata": {},
   "outputs": [
    {
     "name": "stdout",
     "output_type": "stream",
     "text": [
      "Zero-length reviews: 1\n",
      "Maximum review length: 2514\n"
     ]
    }
   ],
   "source": [
    "# outlier review stats\n",
    "review_lens = Counter([len(x) for x in reviews_ints])\n",
    "print(\"Zero-length reviews: {}\".format(review_lens[0]))\n",
    "print(\"Maximum review length: {}\".format(max(review_lens)))"
   ]
  },
  {
   "cell_type": "markdown",
   "metadata": {},
   "source": [
    "Okay, a couple issues here. We seem to have one review with zero length. And, the maximum review length is way too many steps for our RNN. We'll have to remove any super short reviews and truncate super long reviews. This removes outliers and should allow our model to train more efficiently.\n",
    "\n",
    "> **Exercise:** First, remove *any* reviews with zero length from the `reviews_ints` list and their corresponding label in `encoded_labels`."
   ]
  },
  {
   "cell_type": "code",
   "execution_count": 13,
   "metadata": {},
   "outputs": [
    {
     "name": "stdout",
     "output_type": "stream",
     "text": [
      "Number of reviews before removing outliers:  20001\n",
      "Number of reviews after removing outliers:  20000\n"
     ]
    }
   ],
   "source": [
    "print('Number of reviews before removing outliers: ', len(reviews_ints))\n",
    "\n",
    "## remove any reviews/labels with zero length from the reviews_ints list.\n",
    "\n",
    "# get indices of any reviews with length 0\n",
    "non_zero_idx = [ii for ii, review in enumerate(reviews_ints) if len(review) != 0]\n",
    "\n",
    "# remove 0-length reviews and their labels\n",
    "reviews_ints = [reviews_ints[ii] for ii in non_zero_idx]\n",
    "encoded_labels = np.array([encoded_labels[ii] for ii in non_zero_idx])\n",
    "\n",
    "print('Number of reviews after removing outliers: ', len(reviews_ints))"
   ]
  },
  {
   "cell_type": "markdown",
   "metadata": {},
   "source": [
    "---\n",
    "## Padding sequences\n",
    "\n",
    "To deal with both short and very long reviews, we'll pad or truncate all our reviews to a specific length. For reviews shorter than some `seq_length`, we'll pad with 0s. For reviews longer than `seq_length`, we can truncate them to the first `seq_length` words. A good `seq_length`, in this case, is 200.\n",
    "\n",
    "> **Exercise:** Define a function that returns an array `features` that contains the padded data, of a standard size, that we'll pass to the network. \n",
    "* The data should come from `review_ints`, since we want to feed integers to the network. \n",
    "* Each row should be `seq_length` elements long. \n",
    "* For reviews shorter than `seq_length` words, **left pad** with 0s. That is, if the review is `['best', 'movie', 'ever']`, `[117, 18, 128]` as integers, the row will look like `[0, 0, 0, ..., 0, 117, 18, 128]`. \n",
    "* For reviews longer than `seq_length`, use only the first `seq_length` words as the feature vector.\n",
    "\n",
    "As a small example, if the `seq_length=10` and an input review is: \n",
    "```\n",
    "[117, 18, 128]\n",
    "```\n",
    "The resultant, padded sequence should be: \n",
    "\n",
    "```\n",
    "[0, 0, 0, 0, 0, 0, 0, 117, 18, 128]\n",
    "```\n",
    "\n",
    "**Your final `features` array should be a 2D array, with as many rows as there are reviews, and as many columns as the specified `seq_length`.**\n",
    "\n",
    "This isn't trivial and there are a bunch of ways to do this. But, if you're going to be building your own deep learning networks, you're going to have to get used to preparing your data."
   ]
  },
  {
   "cell_type": "code",
   "execution_count": 14,
   "metadata": {},
   "outputs": [],
   "source": [
    "def pad_features(reviews_ints, seq_length):\n",
    "    ''' Return features of review_ints, where each review is padded with 0's \n",
    "        or truncated to the input seq_length.\n",
    "    '''\n",
    "    \n",
    "    # getting the correct rows x cols shape\n",
    "    features = np.zeros((len(reviews_ints), seq_length), dtype=int)\n",
    "\n",
    "    # for each review, I grab that review and \n",
    "    for i, row in enumerate(reviews_ints):\n",
    "        features[i, -len(row):] = np.array(row)[:seq_length]\n",
    "    \n",
    "    return features"
   ]
  },
  {
   "cell_type": "code",
   "execution_count": 15,
   "metadata": {},
   "outputs": [
    {
     "name": "stdout",
     "output_type": "stream",
     "text": [
      "[[    0     0     0     0     0     0     0     0     0     0]\n",
      " [    0     0     0     0     0     0     0     0     0     0]\n",
      " [19885    42 42129    15   761 16641  3467    47    75    35]\n",
      " [ 4347   515    15     3  3498   158  8177  1609     6  4731]\n",
      " [    0     0     0     0     0     0     0     0     0     0]\n",
      " [    0     0     0     0     0     0     0     0     0     0]\n",
      " [    0     0     0     0     0     0     0     0     0     0]\n",
      " [    0     0     0     0     0     0     0     0     0     0]\n",
      " [    0     0     0     0     0     0     0     0     0     0]\n",
      " [   54    10    14   121    60   827   562    71   355     5]\n",
      " [    0     0     0     0     0     0     0     0     0     0]\n",
      " [    0     0     0     0     0     0     0     0     0     0]\n",
      " [    0     0     0     0     0     0     0     0     0     0]\n",
      " [    1   331   572    34     3   158   734  2676     9   324]\n",
      " [    9    11 10447  5105  1956   687   447    21   271   677]\n",
      " [    0     0     0     0     0     0     0     0     0     0]\n",
      " [    1   302  9151  1967  1513  5300  5558  3298 15808  9368]\n",
      " [    0     0     0     0     0     0     0     0     0     0]\n",
      " [   22   122  1967  1513   495  8719    90     6  1326  1141]\n",
      " [    1    20     6    82    41     6    58    79    95     5]\n",
      " [   54    10    85   332 23450 42144    63    10    14   622]\n",
      " [   11    20     6    30  1409 29148  3978   703 13253     6]\n",
      " [    0     0     0     0     0     0     0     0     0     0]\n",
      " [    0     0     0     0     0     0     0     0     0     0]\n",
      " [   41    26   110 17609  1402     9     1   326     4   126]\n",
      " [    0     0     0     0     0     0     0     0     0     0]\n",
      " [   10   493     1   302  9151    55    73     8    13    30]\n",
      " [    0     0     0     0     0     0     0     0     0     0]\n",
      " [    0     0     0     0     0     0     0     0     0     0]\n",
      " [    0     0     0     0     0     0     0     0     0     0]]\n"
     ]
    }
   ],
   "source": [
    "# Test your implementation!\n",
    "\n",
    "seq_length = 200\n",
    "\n",
    "features = pad_features(reviews_ints, seq_length=seq_length)\n",
    "\n",
    "## test statements - do not change - ##\n",
    "assert len(features)==len(reviews_ints), \"Your features should have as many rows as reviews.\"\n",
    "assert len(features[0])==seq_length, \"Each feature row should contain seq_length values.\"\n",
    "\n",
    "# print first 10 values of the first 30 batches \n",
    "print(features[:30,:10])"
   ]
  },
  {
   "cell_type": "markdown",
   "metadata": {},
   "source": [
    "## Training, Validation, Test\n",
    "\n",
    "With our data in nice shape, we'll split it into training, validation, and test sets.\n",
    "\n",
    "> **Exercise:** Create the training, validation, and test sets. \n",
    "* You'll need to create sets for the features and the labels, `train_x` and `train_y`, for example. \n",
    "* Define a split fraction, `split_frac` as the fraction of data to **keep** in the training set. Usually this is set to 0.8 or 0.9. \n",
    "* Whatever data is left will be split in half to create the validation and *testing* data."
   ]
  },
  {
   "cell_type": "code",
   "execution_count": 16,
   "metadata": {},
   "outputs": [
    {
     "name": "stdout",
     "output_type": "stream",
     "text": [
      "\t\t\tFeature Shapes:\n",
      "Train set: \t\t(16000, 200) \n",
      "Validation set: \t(2000, 200) \n",
      "Test set: \t\t(2000, 200)\n"
     ]
    }
   ],
   "source": [
    "split_frac = 0.8\n",
    "\n",
    "## split data into training, validation, and test data (features and labels, x and y)\n",
    "\n",
    "split_idx = int(len(features)*split_frac)\n",
    "train_x, remaining_x = features[:split_idx], features[split_idx:]\n",
    "train_y, remaining_y = encoded_labels[:split_idx], encoded_labels[split_idx:]\n",
    "\n",
    "test_idx = int(len(remaining_x)*0.5)\n",
    "val_x, test_x = remaining_x[:test_idx], remaining_x[test_idx:]\n",
    "val_y, test_y = remaining_y[:test_idx], remaining_y[test_idx:]\n",
    "\n",
    "## print out the shapes of your resultant feature data\n",
    "print(\"\\t\\t\\tFeature Shapes:\")\n",
    "print(\"Train set: \\t\\t{}\".format(train_x.shape), \n",
    "      \"\\nValidation set: \\t{}\".format(val_x.shape),\n",
    "      \"\\nTest set: \\t\\t{}\".format(test_x.shape))"
   ]
  },
  {
   "cell_type": "markdown",
   "metadata": {},
   "source": [
    "**Check your work**\n",
    "\n",
    "With train, validation, and test fractions equal to 0.8, 0.1, 0.1, respectively, the final, feature data shapes should look like:\n",
    "```\n",
    "                    Feature Shapes:\n",
    "Train set: \t\t (20000, 200) \n",
    "Validation set: \t(2500, 200) \n",
    "Test set: \t\t  (2500, 200)\n",
    "```"
   ]
  },
  {
   "cell_type": "markdown",
   "metadata": {},
   "source": [
    "---\n",
    "## DataLoaders and Batching\n",
    "\n",
    "After creating training, test, and validation data, we can create DataLoaders for this data by following two steps:\n",
    "1. Create a known format for accessing our data, using [TensorDataset](https://pytorch.org/docs/stable/data.html#) which takes in an input set of data and a target set of data with the same first dimension, and creates a dataset.\n",
    "2. Create DataLoaders and batch our training, validation, and test Tensor datasets.\n",
    "\n",
    "```\n",
    "train_data = TensorDataset(torch.from_numpy(train_x), torch.from_numpy(train_y))\n",
    "train_loader = DataLoader(train_data, batch_size=batch_size)\n",
    "```\n",
    "\n",
    "This is an alternative to creating a generator function for batching our data into full batches."
   ]
  },
  {
   "cell_type": "code",
   "execution_count": 17,
   "metadata": {},
   "outputs": [],
   "source": [
    "import torch\n",
    "from torch.utils.data import TensorDataset, DataLoader\n",
    "\n",
    "# create Tensor datasets\n",
    "train_data = TensorDataset(torch.from_numpy(train_x), torch.from_numpy(train_y))\n",
    "valid_data = TensorDataset(torch.from_numpy(val_x), torch.from_numpy(val_y))\n",
    "test_data = TensorDataset(torch.from_numpy(test_x), torch.from_numpy(test_y))\n",
    "\n",
    "# dataloaders\n",
    "batch_size = 50\n",
    "\n",
    "# make sure the SHUFFLE your training data\n",
    "train_loader = DataLoader(train_data, shuffle=True, batch_size=batch_size)\n",
    "valid_loader = DataLoader(valid_data, shuffle=True, batch_size=batch_size)\n",
    "test_loader = DataLoader(test_data, shuffle=True, batch_size=batch_size)"
   ]
  },
  {
   "cell_type": "code",
   "execution_count": 18,
   "metadata": {},
   "outputs": [
    {
     "name": "stdout",
     "output_type": "stream",
     "text": [
      "Sample input size:  torch.Size([50, 200])\n",
      "Sample input: \n",
      " tensor([[ 1026,   110,   284,  ...,   111,   119,   152],\n",
      "        [    0,     0,     0,  ...,   790,     3,  1006],\n",
      "        [  255,    85,  3241,  ..., 37867,     1,    20],\n",
      "        ...,\n",
      "        [52975,  1298,  1026,  ...,    11,  5495,   134],\n",
      "        [   54,     3,   126,  ...,  1278,   820,    41],\n",
      "        [    1,   296,   438,  ...,    45,    41,   857]])\n",
      "\n",
      "Sample label size:  torch.Size([50])\n",
      "Sample label: \n",
      " tensor([1, 1, 1, 1, 1, 1, 0, 0, 0, 1, 1, 0, 0, 1, 0, 0, 0, 1, 1, 0, 0, 0, 0, 1,\n",
      "        0, 1, 0, 0, 0, 1, 1, 0, 1, 0, 0, 0, 0, 1, 0, 0, 1, 0, 0, 1, 1, 1, 1, 0,\n",
      "        0, 1])\n"
     ]
    }
   ],
   "source": [
    "# obtain one batch of training data\n",
    "dataiter = iter(train_loader)\n",
    "sample_x, sample_y = next(dataiter)\n",
    "\n",
    "print('Sample input size: ', sample_x.size()) # batch_size, seq_length\n",
    "print('Sample input: \\n', sample_x)\n",
    "print()\n",
    "print('Sample label size: ', sample_y.size()) # batch_size\n",
    "print('Sample label: \\n', sample_y)"
   ]
  },
  {
   "cell_type": "markdown",
   "metadata": {},
   "source": [
    "---\n",
    "# Sentiment Network with PyTorch\n",
    "\n",
    "Below is where you'll define the network.\n",
    "\n",
    "<img src=\"assets/network_diagram.png\" width=40%>\n",
    "\n",
    "The layers are as follows:\n",
    "1. An [embedding layer](https://pytorch.org/docs/stable/nn.html#embedding) that converts our word tokens (integers) into embeddings of a specific size.\n",
    "2. An [LSTM layer](https://pytorch.org/docs/stable/nn.html#lstm) defined by a hidden_state size and number of layers\n",
    "3. A fully-connected output layer that maps the LSTM layer outputs to a desired output_size\n",
    "4. A sigmoid activation layer which turns all outputs into a value 0-1; return **only the last sigmoid output** as the output of this network.\n",
    "\n",
    "### The Embedding Layer\n",
    "\n",
    "We need to add an [embedding layer](https://pytorch.org/docs/stable/nn.html#embedding) because there are 74000+ words in our vocabulary. It is massively inefficient to one-hot encode that many classes. So, instead of one-hot encoding, we can have an embedding layer and use that layer as a lookup table. You could train an embedding layer using Word2Vec, then load it here. But, it's fine to just make a new layer, using it for only dimensionality reduction, and let the network learn the weights.\n",
    "\n",
    "\n",
    "### The LSTM Layer(s)\n",
    "\n",
    "We'll create an [LSTM](https://pytorch.org/docs/stable/nn.html#lstm) to use in our recurrent network, which takes in an input_size, a hidden_dim, a number of layers, a dropout probability (for dropout between multiple layers), and a batch_first parameter.\n",
    "\n",
    "Most of the time, you're network will have better performance with more layers; between 2-3. Adding more layers allows the network to learn really complex relationships. \n",
    "\n",
    "> **Exercise:** Complete the `__init__`, `forward`, and `init_hidden` functions for the SentimentRNN model class.\n",
    "\n",
    "Note: `init_hidden` should initialize the hidden and cell state of an lstm layer to all zeros, and move those state to GPU, if available."
   ]
  },
  {
   "cell_type": "code",
   "execution_count": 19,
   "metadata": {},
   "outputs": [
    {
     "name": "stdout",
     "output_type": "stream",
     "text": [
      "No GPU available, training on CPU.\n"
     ]
    }
   ],
   "source": [
    "# First checking if GPU is available\n",
    "train_on_gpu=torch.cuda.is_available()\n",
    "\n",
    "if(train_on_gpu):\n",
    "    print('Training on GPU.')\n",
    "else:\n",
    "    print('No GPU available, training on CPU.')"
   ]
  },
  {
   "cell_type": "code",
   "execution_count": 20,
   "metadata": {},
   "outputs": [],
   "source": [
    "import torch.nn as nn\n",
    "\n",
    "class SentimentRNN(nn.Module):\n",
    "    \"\"\"\n",
    "    The RNN model that will be used to perform Sentiment analysis.\n",
    "    \"\"\"\n",
    "\n",
    "    def __init__(self, vocab_size, output_size, embedding_dim, hidden_dim, n_layers, drop_prob=0.5):\n",
    "        \"\"\"\n",
    "        Initialize the model by setting up the layers.\n",
    "        \"\"\"\n",
    "        super(SentimentRNN, self).__init__()\n",
    "\n",
    "        self.output_size = output_size\n",
    "        self.n_layers = n_layers\n",
    "        self.hidden_dim = hidden_dim\n",
    "        \n",
    "        # embedding and LSTM layers\n",
    "        self.embedding = nn.Embedding(vocab_size, embedding_dim)\n",
    "        self.lstm = nn.LSTM(embedding_dim, hidden_dim, n_layers, \n",
    "                            dropout=drop_prob, batch_first=True)\n",
    "        \n",
    "        # dropout layer\n",
    "        self.dropout = nn.Dropout(0.3)\n",
    "        \n",
    "        # linear and sigmoid layers\n",
    "        self.fc = nn.Linear(hidden_dim, output_size)\n",
    "        self.sig = nn.Sigmoid()\n",
    "        \n",
    "\n",
    "    def forward(self, x, hidden):\n",
    "        \"\"\"\n",
    "        Perform a forward pass of our model on some input and hidden state.\n",
    "        \"\"\"\n",
    "        batch_size = x.size(0)\n",
    "\n",
    "        # embeddings and lstm_out\n",
    "        x = x.long()\n",
    "        embeds = self.embedding(x)\n",
    "        lstm_out, hidden = self.lstm(embeds, hidden)\n",
    "        \n",
    "        lstm_out = lstm_out[:, -1, :] # getting the last time step output\n",
    "        \n",
    "        # dropout and fully-connected layer\n",
    "        out = self.dropout(lstm_out)\n",
    "        out = self.fc(out)\n",
    "        # sigmoid function\n",
    "        sig_out = self.sig(out)\n",
    "        \n",
    "        # return last sigmoid output and hidden state\n",
    "        return sig_out, hidden\n",
    "    \n",
    "    \n",
    "    def init_hidden(self, batch_size):\n",
    "        ''' Initializes hidden state '''\n",
    "        # Create two new tensors with sizes n_layers x batch_size x hidden_dim,\n",
    "        # initialized to zero, for hidden state and cell state of LSTM\n",
    "        weight = next(self.parameters()).data\n",
    "        \n",
    "        if (train_on_gpu):\n",
    "            hidden = (weight.new(self.n_layers, batch_size, self.hidden_dim).zero_().cuda(),\n",
    "                  weight.new(self.n_layers, batch_size, self.hidden_dim).zero_().cuda())\n",
    "        else:\n",
    "            hidden = (weight.new(self.n_layers, batch_size, self.hidden_dim).zero_(),\n",
    "                      weight.new(self.n_layers, batch_size, self.hidden_dim).zero_())\n",
    "        \n",
    "        return hidden\n",
    "        "
   ]
  },
  {
   "cell_type": "markdown",
   "metadata": {},
   "source": [
    "## Instantiate the network\n",
    "\n",
    "Here, we'll instantiate the network. First up, defining the hyperparameters.\n",
    "\n",
    "* `vocab_size`: Size of our vocabulary or the range of values for our input, word tokens.\n",
    "* `output_size`: Size of our desired output; the number of class scores we want to output (pos/neg).\n",
    "* `embedding_dim`: Number of columns in the embedding lookup table; size of our embeddings.\n",
    "* `hidden_dim`: Number of units in the hidden layers of our LSTM cells. Usually larger is better performance wise. Common values are 128, 256, 512, etc.\n",
    "* `n_layers`: Number of LSTM layers in the network. Typically between 1-3\n",
    "\n",
    "> **Exercise:** Define the model  hyperparameters.\n"
   ]
  },
  {
   "cell_type": "code",
   "execution_count": 21,
   "metadata": {},
   "outputs": [
    {
     "name": "stdout",
     "output_type": "stream",
     "text": [
      "SentimentRNN(\n",
      "  (embedding): Embedding(67348, 400)\n",
      "  (lstm): LSTM(400, 256, num_layers=2, batch_first=True, dropout=0.5)\n",
      "  (dropout): Dropout(p=0.3, inplace=False)\n",
      "  (fc): Linear(in_features=256, out_features=1, bias=True)\n",
      "  (sig): Sigmoid()\n",
      ")\n"
     ]
    }
   ],
   "source": [
    "# Instantiate the model w/ hyperparams\n",
    "vocab_size = len(vocab_to_int)+1 # +1 for the 0 padding + our word tokens\n",
    "output_size = 1\n",
    "embedding_dim = 400\n",
    "hidden_dim = 256\n",
    "n_layers = 2\n",
    "\n",
    "net = SentimentRNN(vocab_size, output_size, embedding_dim, hidden_dim, n_layers)\n",
    "\n",
    "print(net)"
   ]
  },
  {
   "cell_type": "markdown",
   "metadata": {},
   "source": [
    "---\n",
    "## Training\n",
    "\n",
    "Below is the typical training code. If you want to do this yourself, feel free to delete all this code and implement it yourself. You can also add code to save a model by name.\n",
    "\n",
    ">We'll also be using a new kind of cross entropy loss, which is designed to work with a single Sigmoid output. [BCELoss](https://pytorch.org/docs/stable/nn.html#bceloss), or **Binary Cross Entropy Loss**, applies cross entropy loss to a single value between 0 and 1.\n",
    "\n",
    "We also have some data and training hyparameters:\n",
    "\n",
    "* `lr`: Learning rate for our optimizer.\n",
    "* `epochs`: Number of times to iterate through the training dataset.\n",
    "* `clip`: The maximum gradient value to clip at (to prevent exploding gradients)."
   ]
  },
  {
   "cell_type": "code",
   "execution_count": 22,
   "metadata": {},
   "outputs": [],
   "source": [
    "# loss and optimization functions\n",
    "lr=0.001\n",
    "\n",
    "criterion = nn.BCELoss()\n",
    "optimizer = torch.optim.Adam(net.parameters(), lr=lr)\n"
   ]
  },
  {
   "cell_type": "code",
   "execution_count": 23,
   "metadata": {},
   "outputs": [
    {
     "name": "stdout",
     "output_type": "stream",
     "text": [
      "Epoch: 1/4... Step: 100... Loss: 0.588987... Val Loss: 0.666007\n"
     ]
    },
    {
     "ename": "KeyboardInterrupt",
     "evalue": "",
     "output_type": "error",
     "traceback": [
      "\u001b[0;31m---------------------------------------------------------------------------\u001b[0m",
      "\u001b[0;31mKeyboardInterrupt\u001b[0m                         Traceback (most recent call last)",
      "Cell \u001b[0;32mIn[23], line 38\u001b[0m\n\u001b[1;32m     36\u001b[0m \u001b[38;5;66;03m# calculate the loss and perform backprop\u001b[39;00m\n\u001b[1;32m     37\u001b[0m loss \u001b[38;5;241m=\u001b[39m criterion(output\u001b[38;5;241m.\u001b[39msqueeze(), labels\u001b[38;5;241m.\u001b[39mfloat())\n\u001b[0;32m---> 38\u001b[0m \u001b[43mloss\u001b[49m\u001b[38;5;241;43m.\u001b[39;49m\u001b[43mbackward\u001b[49m\u001b[43m(\u001b[49m\u001b[43m)\u001b[49m\n\u001b[1;32m     39\u001b[0m \u001b[38;5;66;03m# `clip_grad_norm` helps prevent the exploding gradient problem in RNNs / LSTMs.\u001b[39;00m\n\u001b[1;32m     40\u001b[0m nn\u001b[38;5;241m.\u001b[39mutils\u001b[38;5;241m.\u001b[39mclip_grad_norm_(net\u001b[38;5;241m.\u001b[39mparameters(), clip)\n",
      "File \u001b[0;32m/Library/Frameworks/Python.framework/Versions/3.10/lib/python3.10/site-packages/torch/_tensor.py:522\u001b[0m, in \u001b[0;36mTensor.backward\u001b[0;34m(self, gradient, retain_graph, create_graph, inputs)\u001b[0m\n\u001b[1;32m    512\u001b[0m \u001b[38;5;28;01mif\u001b[39;00m has_torch_function_unary(\u001b[38;5;28mself\u001b[39m):\n\u001b[1;32m    513\u001b[0m     \u001b[38;5;28;01mreturn\u001b[39;00m handle_torch_function(\n\u001b[1;32m    514\u001b[0m         Tensor\u001b[38;5;241m.\u001b[39mbackward,\n\u001b[1;32m    515\u001b[0m         (\u001b[38;5;28mself\u001b[39m,),\n\u001b[0;32m   (...)\u001b[0m\n\u001b[1;32m    520\u001b[0m         inputs\u001b[38;5;241m=\u001b[39minputs,\n\u001b[1;32m    521\u001b[0m     )\n\u001b[0;32m--> 522\u001b[0m \u001b[43mtorch\u001b[49m\u001b[38;5;241;43m.\u001b[39;49m\u001b[43mautograd\u001b[49m\u001b[38;5;241;43m.\u001b[39;49m\u001b[43mbackward\u001b[49m\u001b[43m(\u001b[49m\n\u001b[1;32m    523\u001b[0m \u001b[43m    \u001b[49m\u001b[38;5;28;43mself\u001b[39;49m\u001b[43m,\u001b[49m\u001b[43m \u001b[49m\u001b[43mgradient\u001b[49m\u001b[43m,\u001b[49m\u001b[43m \u001b[49m\u001b[43mretain_graph\u001b[49m\u001b[43m,\u001b[49m\u001b[43m \u001b[49m\u001b[43mcreate_graph\u001b[49m\u001b[43m,\u001b[49m\u001b[43m \u001b[49m\u001b[43minputs\u001b[49m\u001b[38;5;241;43m=\u001b[39;49m\u001b[43minputs\u001b[49m\n\u001b[1;32m    524\u001b[0m \u001b[43m\u001b[49m\u001b[43m)\u001b[49m\n",
      "File \u001b[0;32m/Library/Frameworks/Python.framework/Versions/3.10/lib/python3.10/site-packages/torch/autograd/__init__.py:266\u001b[0m, in \u001b[0;36mbackward\u001b[0;34m(tensors, grad_tensors, retain_graph, create_graph, grad_variables, inputs)\u001b[0m\n\u001b[1;32m    261\u001b[0m     retain_graph \u001b[38;5;241m=\u001b[39m create_graph\n\u001b[1;32m    263\u001b[0m \u001b[38;5;66;03m# The reason we repeat the same comment below is that\u001b[39;00m\n\u001b[1;32m    264\u001b[0m \u001b[38;5;66;03m# some Python versions print out the first line of a multi-line function\u001b[39;00m\n\u001b[1;32m    265\u001b[0m \u001b[38;5;66;03m# calls in the traceback and some print out the last line\u001b[39;00m\n\u001b[0;32m--> 266\u001b[0m \u001b[43mVariable\u001b[49m\u001b[38;5;241;43m.\u001b[39;49m\u001b[43m_execution_engine\u001b[49m\u001b[38;5;241;43m.\u001b[39;49m\u001b[43mrun_backward\u001b[49m\u001b[43m(\u001b[49m\u001b[43m  \u001b[49m\u001b[38;5;66;43;03m# Calls into the C++ engine to run the backward pass\u001b[39;49;00m\n\u001b[1;32m    267\u001b[0m \u001b[43m    \u001b[49m\u001b[43mtensors\u001b[49m\u001b[43m,\u001b[49m\n\u001b[1;32m    268\u001b[0m \u001b[43m    \u001b[49m\u001b[43mgrad_tensors_\u001b[49m\u001b[43m,\u001b[49m\n\u001b[1;32m    269\u001b[0m \u001b[43m    \u001b[49m\u001b[43mretain_graph\u001b[49m\u001b[43m,\u001b[49m\n\u001b[1;32m    270\u001b[0m \u001b[43m    \u001b[49m\u001b[43mcreate_graph\u001b[49m\u001b[43m,\u001b[49m\n\u001b[1;32m    271\u001b[0m \u001b[43m    \u001b[49m\u001b[43minputs\u001b[49m\u001b[43m,\u001b[49m\n\u001b[1;32m    272\u001b[0m \u001b[43m    \u001b[49m\u001b[43mallow_unreachable\u001b[49m\u001b[38;5;241;43m=\u001b[39;49m\u001b[38;5;28;43;01mTrue\u001b[39;49;00m\u001b[43m,\u001b[49m\n\u001b[1;32m    273\u001b[0m \u001b[43m    \u001b[49m\u001b[43maccumulate_grad\u001b[49m\u001b[38;5;241;43m=\u001b[39;49m\u001b[38;5;28;43;01mTrue\u001b[39;49;00m\u001b[43m,\u001b[49m\n\u001b[1;32m    274\u001b[0m \u001b[43m\u001b[49m\u001b[43m)\u001b[49m\n",
      "\u001b[0;31mKeyboardInterrupt\u001b[0m: "
     ]
    }
   ],
   "source": [
    "# training params\n",
    "\n",
    "epochs = 4 # 3-4 is approx where I noticed the validation loss stop decreasing\n",
    "\n",
    "counter = 0\n",
    "print_every = 100\n",
    "clip=5 # gradient clipping\n",
    "\n",
    "# move model to GPU, if available\n",
    "if(train_on_gpu):\n",
    "    net.cuda()\n",
    "\n",
    "net.train()\n",
    "# train for some number of epochs\n",
    "for e in range(epochs):\n",
    "    # initialize hidden state\n",
    "    h = net.init_hidden(batch_size)\n",
    "\n",
    "    # batch loop\n",
    "    for inputs, labels in train_loader:\n",
    "        counter += 1\n",
    "\n",
    "        if(train_on_gpu):\n",
    "            inputs, labels = inputs.cuda(), labels.cuda()\n",
    "\n",
    "        # Creating new variables for the hidden state, otherwise\n",
    "        # we'd backprop through the entire training history\n",
    "        h = tuple([each.data for each in h])\n",
    "\n",
    "        # zero accumulated gradients\n",
    "        net.zero_grad()\n",
    "\n",
    "        # get the output from the model\n",
    "        output, h = net(inputs, h)\n",
    "\n",
    "        # calculate the loss and perform backprop\n",
    "        loss = criterion(output.squeeze(), labels.float())\n",
    "        loss.backward()\n",
    "        # `clip_grad_norm` helps prevent the exploding gradient problem in RNNs / LSTMs.\n",
    "        nn.utils.clip_grad_norm_(net.parameters(), clip)\n",
    "        optimizer.step()\n",
    "\n",
    "        # loss stats\n",
    "        if counter % print_every == 0:\n",
    "            # Get validation loss\n",
    "            val_h = net.init_hidden(batch_size)\n",
    "            val_losses = []\n",
    "            net.eval()\n",
    "            for inputs, labels in valid_loader:\n",
    "\n",
    "                # Creating new variables for the hidden state, otherwise\n",
    "                # we'd backprop through the entire training history\n",
    "                val_h = tuple([each.data for each in val_h])\n",
    "\n",
    "                if(train_on_gpu):\n",
    "                    inputs, labels = inputs.cuda(), labels.cuda()\n",
    "\n",
    "                output, val_h = net(inputs, val_h)\n",
    "                val_loss = criterion(output.squeeze(), labels.float())\n",
    "\n",
    "                val_losses.append(val_loss.item())\n",
    "\n",
    "            net.train()\n",
    "            print(\"Epoch: {}/{}...\".format(e+1, epochs),\n",
    "                  \"Step: {}...\".format(counter),\n",
    "                  \"Loss: {:.6f}...\".format(loss.item()),\n",
    "                  \"Val Loss: {:.6f}\".format(np.mean(val_losses)))"
   ]
  },
  {
   "cell_type": "markdown",
   "metadata": {},
   "source": [
    "---\n",
    "## Testing\n",
    "\n",
    "There are a few ways to test your network.\n",
    "\n",
    "* **Test data performance:** First, we'll see how our trained model performs on all of our defined test_data, above. We'll calculate the average loss and accuracy over the test data.\n",
    "\n",
    "* **Inference on user-generated data:** Second, we'll see if we can input just one example review at a time (without a label), and see what the trained model predicts. Looking at new, user input data like this, and predicting an output label, is called **inference**."
   ]
  },
  {
   "cell_type": "code",
   "execution_count": 24,
   "metadata": {},
   "outputs": [
    {
     "name": "stdout",
     "output_type": "stream",
     "text": [
      "Test loss: 0.527\n",
      "Test accuracy: 0.802\n"
     ]
    }
   ],
   "source": [
    "# Get test data loss and accuracy\n",
    "\n",
    "test_losses = [] # track loss\n",
    "num_correct = 0\n",
    "\n",
    "# init hidden state\n",
    "h = net.init_hidden(batch_size)\n",
    "\n",
    "net.eval()\n",
    "# iterate over test data\n",
    "for inputs, labels in test_loader:\n",
    "\n",
    "    # Creating new variables for the hidden state, otherwise\n",
    "    # we'd backprop through the entire training history\n",
    "    h = tuple([each.data for each in h])\n",
    "\n",
    "    if(train_on_gpu):\n",
    "        inputs, labels = inputs.cuda(), labels.cuda()\n",
    "    \n",
    "    # get predicted outputs\n",
    "    output, h = net(inputs, h)\n",
    "    \n",
    "    # calculate loss\n",
    "    test_loss = criterion(output.squeeze(), labels.float())\n",
    "    test_losses.append(test_loss.item())\n",
    "    \n",
    "    # convert output probabilities to predicted class (0 or 1)\n",
    "    pred = torch.round(output.squeeze())  # rounds to the nearest integer\n",
    "    \n",
    "    # compare predictions to true label\n",
    "    correct_tensor = pred.eq(labels.float().view_as(pred))\n",
    "    correct = np.squeeze(correct_tensor.numpy()) if not train_on_gpu else np.squeeze(correct_tensor.cpu().numpy())\n",
    "    num_correct += np.sum(correct)\n",
    "\n",
    "\n",
    "# -- stats! -- ##\n",
    "# avg test loss\n",
    "print(\"Test loss: {:.3f}\".format(np.mean(test_losses)))\n",
    "\n",
    "# accuracy over all test data\n",
    "test_acc = num_correct/len(test_loader.dataset)\n",
    "print(\"Test accuracy: {:.3f}\".format(test_acc))"
   ]
  },
  {
   "cell_type": "code",
   "execution_count": 32,
   "metadata": {},
   "outputs": [],
   "source": [
    "torch.save(net.state_dict(), 'sentiment_rnn.pt')"
   ]
  },
  {
   "cell_type": "code",
   "execution_count": 77,
   "metadata": {},
   "outputs": [
    {
     "data": {
      "text/plain": [
       "<All keys matched successfully>"
      ]
     },
     "execution_count": 77,
     "metadata": {},
     "output_type": "execute_result"
    }
   ],
   "source": [
    "import torch\n",
    "net = SentimentRNN(vocab_size, output_size, embedding_dim, hidden_dim, n_layers)\n",
    "net.load_state_dict(torch.load('models/sentiment_rnn.pt'))\n"
   ]
  },
  {
   "cell_type": "markdown",
   "metadata": {},
   "source": [
    "### Inference on a test review\n",
    "\n",
    "You can change this test_review to any text that you want. Read it and think: is it pos or neg? Then see if your model predicts correctly!\n",
    "    \n",
    "> **Exercise:** Write a `predict` function that takes in a trained net, a plain text_review, and a sequence length, and prints out a custom statement for a positive or negative review!\n",
    "* You can use any functions that you've already defined or define any helper functions you want to complete `predict`, but it should just take in a trained net, a text review, and a sequence length.\n"
   ]
  },
  {
   "cell_type": "code",
   "execution_count": 78,
   "metadata": {},
   "outputs": [],
   "source": [
    "# negative test review\n",
    "test_review_neg = 'The worst movie I have seen; acting was terrible and I want my money back. This movie had bad acting and the dialogue was slow.'\n"
   ]
  },
  {
   "cell_type": "code",
   "execution_count": 79,
   "metadata": {},
   "outputs": [
    {
     "name": "stdout",
     "output_type": "stream",
     "text": [
      "[[1, 247, 18, 10, 28, 108, 113, 14, 388, 2, 10, 181, 60, 273, 144, 11, 18, 68, 76, 113, 2, 1, 410, 14, 539]]\n"
     ]
    }
   ],
   "source": [
    "from string import punctuation\n",
    "\n",
    "def tokenize_review(test_review):\n",
    "    test_review = test_review.lower() # lowercase\n",
    "    # get rid of punctuation\n",
    "    test_text = ''.join([c for c in test_review if c not in punctuation])\n",
    "\n",
    "    # splitting by spaces\n",
    "    test_words = test_text.split()\n",
    "\n",
    "    # tokens\n",
    "    test_ints = []\n",
    "    test_ints.append([vocab_to_int.get(word, 0) for word in test_words])\n",
    "\n",
    "    return test_ints\n",
    "\n",
    "# test code and generate tokenized review\n",
    "test_ints = tokenize_review(test_review_neg)\n",
    "print(test_ints)"
   ]
  },
  {
   "cell_type": "code",
   "execution_count": 80,
   "metadata": {},
   "outputs": [
    {
     "name": "stdout",
     "output_type": "stream",
     "text": [
      "[[  0   0   0   0   0   0   0   0   0   0   0   0   0   0   0   0   0   0\n",
      "    0   0   0   0   0   0   0   0   0   0   0   0   0   0   0   0   0   0\n",
      "    0   0   0   0   0   0   0   0   0   0   0   0   0   0   0   0   0   0\n",
      "    0   0   0   0   0   0   0   0   0   0   0   0   0   0   0   0   0   0\n",
      "    0   0   0   0   0   0   0   0   0   0   0   0   0   0   0   0   0   0\n",
      "    0   0   0   0   0   0   0   0   0   0   0   0   0   0   0   0   0   0\n",
      "    0   0   0   0   0   0   0   0   0   0   0   0   0   0   0   0   0   0\n",
      "    0   0   0   0   0   0   0   0   0   0   0   0   0   0   0   0   0   0\n",
      "    0   0   0   0   0   0   0   0   0   0   0   0   0   0   0   0   0   0\n",
      "    0   0   0   0   0   0   0   0   0   0   0   0   0   1 247  18  10  28\n",
      "  108 113  14 388   2  10 181  60 273 144  11  18  68  76 113   2   1 410\n",
      "   14 539]]\n"
     ]
    }
   ],
   "source": [
    "# test sequence padding\n",
    "seq_length=200\n",
    "features = pad_features(test_ints, seq_length)\n",
    "\n",
    "print(features)"
   ]
  },
  {
   "cell_type": "code",
   "execution_count": 81,
   "metadata": {},
   "outputs": [
    {
     "name": "stdout",
     "output_type": "stream",
     "text": [
      "torch.Size([1, 200])\n"
     ]
    }
   ],
   "source": [
    "# test conversion to tensor and pass into your model\n",
    "feature_tensor = torch.from_numpy(features)\n",
    "print(feature_tensor.size())"
   ]
  },
  {
   "cell_type": "code",
   "execution_count": 82,
   "metadata": {},
   "outputs": [],
   "source": [
    "def predict(net, test_review, sequence_length=200):\n",
    "    \n",
    "    net.eval()\n",
    "    \n",
    "    # tokenize review\n",
    "    test_ints = tokenize_review(test_review)\n",
    "    \n",
    "    # pad tokenized sequence\n",
    "    seq_length=sequence_length\n",
    "    features = pad_features(test_ints, seq_length)\n",
    "    \n",
    "    # convert to tensor to pass into your model\n",
    "    feature_tensor = torch.from_numpy(features)\n",
    "    \n",
    "    batch_size = feature_tensor.size(0)\n",
    "    \n",
    "    # initialize hidden state\n",
    "    h = net.init_hidden(batch_size)\n",
    "    \n",
    "    if(train_on_gpu):\n",
    "        feature_tensor = feature_tensor.cuda()\n",
    "    \n",
    "    # get the output from the model\n",
    "    output, h = net(feature_tensor, h)\n",
    "    \n",
    "    # convert output probabilities to predicted class (0 or 1)\n",
    "    pred = torch.round(output.squeeze()) \n",
    "    # printing output value, before rounding\n",
    "    print('Prediction value, pre-rounding: {:.6f}'.format(output.item()))\n",
    "    \n",
    "    # print custom response\n",
    "    if(pred.item()==1):\n",
    "        print(\"Positive review detected!\")\n",
    "    else:\n",
    "        print(\"Negative review detected.\")\n",
    "        "
   ]
  },
  {
   "cell_type": "code",
   "execution_count": 102,
   "metadata": {},
   "outputs": [],
   "source": [
    "# positive test review\n",
    "test_review_pos = \"I like blade runner\"\n"
   ]
  },
  {
   "cell_type": "code",
   "execution_count": 103,
   "metadata": {},
   "outputs": [
    {
     "name": "stdout",
     "output_type": "stream",
     "text": [
      "Prediction value, pre-rounding: 0.603875\n",
      "Positive review detected!\n"
     ]
    }
   ],
   "source": [
    "# call function\n",
    "seq_length=200 # good to use the length that was trained on\n",
    "\n",
    "predict(net, test_review_pos, seq_length)"
   ]
  },
  {
   "cell_type": "markdown",
   "metadata": {},
   "source": [
    "### Try out test_reviews of your own!\n",
    "\n",
    "Now that you have a trained model and a predict function, you can pass in _any_ kind of text and this model will predict whether the text has a positive or negative sentiment. Push this model to its limits and try to find what words it associates with positive or negative.\n",
    "\n",
    "Later, you'll learn how to deploy a model like this to a production environment so that it can respond to any kind of user data put into a web app!"
   ]
  }
 ],
 "metadata": {
  "kernelspec": {
   "display_name": "Python 3",
   "language": "python",
   "name": "python3"
  },
  "language_info": {
   "codemirror_mode": {
    "name": "ipython",
    "version": 3
   },
   "file_extension": ".py",
   "mimetype": "text/x-python",
   "name": "python",
   "nbconvert_exporter": "python",
   "pygments_lexer": "ipython3",
   "version": "3.10.11"
  }
 },
 "nbformat": 4,
 "nbformat_minor": 2
}
